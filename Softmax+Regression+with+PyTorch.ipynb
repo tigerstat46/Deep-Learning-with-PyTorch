{
 "cells": [
  {
   "cell_type": "markdown",
   "metadata": {},
   "source": [
    "Thank you Yunjey for tutorial"
   ]
  },
  {
   "cell_type": "markdown",
   "metadata": {},
   "source": [
    "Import module"
   ]
  },
  {
   "cell_type": "code",
   "execution_count": 1,
   "metadata": {
    "collapsed": false
   },
   "outputs": [
    {
     "name": "stderr",
     "output_type": "stream",
     "text": [
      "/Users/TigerTGV/anaconda3/lib/python3.6/site-packages/sklearn/cross_validation.py:44: DeprecationWarning: This module was deprecated in version 0.18 in favor of the model_selection module into which all the refactored classes and functions are moved. Also note that the interface of the new CV iterators are different from that of this module. This module will be removed in 0.20.\n",
      "  \"This module will be removed in 0.20.\", DeprecationWarning)\n"
     ]
    }
   ],
   "source": [
    "import torch\n",
    "import torch.nn as nn\n",
    "import torchvision.transforms as transforms\n",
    "from torch.autograd import Variable\n",
    "import pandas as pd \n",
    "from sklearn.cross_validation import train_test_split\n",
    "import numpy as np\n",
    "import argparse"
   ]
  },
  {
   "cell_type": "markdown",
   "metadata": {},
   "source": [
    "Import iris data"
   ]
  },
  {
   "cell_type": "code",
   "execution_count": 2,
   "metadata": {
    "collapsed": false
   },
   "outputs": [
    {
     "name": "stdout",
     "output_type": "stream",
     "text": [
      "   sepal_length  sepal_width  petal_length  petal_width        class\n",
      "0           5.1          3.5           1.4          0.2  Iris-setosa\n",
      "1           4.9          3.0           1.4          0.2  Iris-setosa\n",
      "2           4.7          3.2           1.3          0.2  Iris-setosa\n",
      "3           4.6          3.1           1.5          0.2  Iris-setosa\n",
      "4           5.0          3.6           1.4          0.2  Iris-setosa\n"
     ]
    }
   ],
   "source": [
    "iris = pd.read_csv(\"https://archive.ics.uci.edu/ml/machine-learning-databases/iris/iris.data\",header = None)\n",
    "iris.columns = [\"sepal_length\",\"sepal_width\",\"petal_length\",\"petal_width\",\"class\"]\n",
    "print(iris.head(5))"
   ]
  },
  {
   "cell_type": "code",
   "execution_count": 3,
   "metadata": {
    "collapsed": false
   },
   "outputs": [],
   "source": [
    "iris_x = iris.iloc[:,0:4]\n",
    "iris_y = iris.iloc[:,4:]"
   ]
  },
  {
   "cell_type": "markdown",
   "metadata": {},
   "source": [
    "Split train data and test data "
   ]
  },
  {
   "cell_type": "code",
   "execution_count": 4,
   "metadata": {
    "collapsed": false
   },
   "outputs": [],
   "source": [
    "train_x, test_x, train_y, test_y = train_test_split(iris_x,iris_y,test_size = 0.2 , random_state = 123)"
   ]
  },
  {
   "cell_type": "markdown",
   "metadata": {},
   "source": [
    "Convert target class to number"
   ]
  },
  {
   "cell_type": "code",
   "execution_count": 5,
   "metadata": {
    "collapsed": true
   },
   "outputs": [],
   "source": [
    "def changeiris(irisclass):\n",
    "    if irisclass == \"Iris-setosa\":\n",
    "        return 0\n",
    "    elif irisclass == \"Iris-versicolor\":\n",
    "        return 1\n",
    "    else:\n",
    "        return 2"
   ]
  },
  {
   "cell_type": "markdown",
   "metadata": {},
   "source": [
    "Convert Pandas dataframe to Numpy Array(float 32)"
   ]
  },
  {
   "cell_type": "code",
   "execution_count": 6,
   "metadata": {
    "collapsed": false
   },
   "outputs": [],
   "source": [
    "train_x = train_x.as_matrix()\n",
    "train_x = train_x.astype('float32')"
   ]
  },
  {
   "cell_type": "code",
   "execution_count": 7,
   "metadata": {
    "collapsed": false
   },
   "outputs": [],
   "source": [
    "train_y = train_y[\"class\"].apply(changeiris)\n",
    "train_y = train_y.as_matrix()\n",
    "train_y = train_y.astype('float32')"
   ]
  },
  {
   "cell_type": "markdown",
   "metadata": {},
   "source": [
    "Setting Hyperparameter"
   ]
  },
  {
   "cell_type": "code",
   "execution_count": 8,
   "metadata": {
    "collapsed": true
   },
   "outputs": [],
   "source": [
    "input_size = 4\n",
    "num_classes = 3\n",
    "num_epochs = 40\n",
    "learning_rate = 0.001"
   ]
  },
  {
   "cell_type": "markdown",
   "metadata": {},
   "source": [
    "Define model"
   ]
  },
  {
   "cell_type": "code",
   "execution_count": 9,
   "metadata": {
    "collapsed": true
   },
   "outputs": [],
   "source": [
    "class SoftmaxRegression(nn.Module):\n",
    "    def __init__(self, input_size, num_classes):\n",
    "        super(SoftmaxRegression, self).__init__()\n",
    "        self.linear = nn.Linear(input_size, num_classes)\n",
    "    \n",
    "    def forward(self, x):\n",
    "        out = self.linear(x)\n",
    "        return out"
   ]
  },
  {
   "cell_type": "markdown",
   "metadata": {},
   "source": [
    "Define criterion and optimization method \n",
    "\n",
    "Note: PyTorch construct Softmax Regression in CrossEntropyLoss()  "
   ]
  },
  {
   "cell_type": "code",
   "execution_count": 10,
   "metadata": {
    "collapsed": false
   },
   "outputs": [],
   "source": [
    "model = SoftmaxRegression(input_size,num_classes)\n",
    "criterion = nn.CrossEntropyLoss()  \n",
    "optimizer = torch.optim.SGD(model.parameters(), lr=learning_rate) "
   ]
  },
  {
   "cell_type": "markdown",
   "metadata": {},
   "source": [
    "Run the model"
   ]
  },
  {
   "cell_type": "code",
   "execution_count": 11,
   "metadata": {
    "collapsed": false,
    "scrolled": false
   },
   "outputs": [
    {
     "name": "stdout",
     "output_type": "stream",
     "text": [
      "Epoch [1/40], Loss: 2.0138\n",
      "Epoch [2/40], Loss: 1.9806\n",
      "Epoch [3/40], Loss: 1.9481\n",
      "Epoch [4/40], Loss: 1.9164\n",
      "Epoch [5/40], Loss: 1.8856\n",
      "Epoch [6/40], Loss: 1.8555\n",
      "Epoch [7/40], Loss: 1.8263\n",
      "Epoch [8/40], Loss: 1.7979\n",
      "Epoch [9/40], Loss: 1.7703\n",
      "Epoch [10/40], Loss: 1.7436\n",
      "Epoch [11/40], Loss: 1.7176\n",
      "Epoch [12/40], Loss: 1.6924\n",
      "Epoch [13/40], Loss: 1.6679\n",
      "Epoch [14/40], Loss: 1.6443\n",
      "Epoch [15/40], Loss: 1.6213\n",
      "Epoch [16/40], Loss: 1.5991\n",
      "Epoch [17/40], Loss: 1.5777\n",
      "Epoch [18/40], Loss: 1.5569\n",
      "Epoch [19/40], Loss: 1.5367\n",
      "Epoch [20/40], Loss: 1.5173\n",
      "Epoch [21/40], Loss: 1.4985\n",
      "Epoch [22/40], Loss: 1.4803\n",
      "Epoch [23/40], Loss: 1.4627\n",
      "Epoch [24/40], Loss: 1.4456\n",
      "Epoch [25/40], Loss: 1.4292\n",
      "Epoch [26/40], Loss: 1.4132\n",
      "Epoch [27/40], Loss: 1.3978\n",
      "Epoch [28/40], Loss: 1.3829\n",
      "Epoch [29/40], Loss: 1.3685\n",
      "Epoch [30/40], Loss: 1.3546\n",
      "Epoch [31/40], Loss: 1.3411\n",
      "Epoch [32/40], Loss: 1.3280\n",
      "Epoch [33/40], Loss: 1.3154\n",
      "Epoch [34/40], Loss: 1.3031\n",
      "Epoch [35/40], Loss: 1.2913\n",
      "Epoch [36/40], Loss: 1.2798\n",
      "Epoch [37/40], Loss: 1.2687\n",
      "Epoch [38/40], Loss: 1.2579\n",
      "Epoch [39/40], Loss: 1.2474\n",
      "Epoch [40/40], Loss: 1.2373\n"
     ]
    }
   ],
   "source": [
    "for epoch in range(num_epochs):\n",
    "    inputs = Variable(torch.from_numpy(train_x))\n",
    "    targets = Variable(torch.from_numpy(train_y).long())\n",
    "    optimizer.zero_grad()  \n",
    "    outputs = model(inputs)\n",
    "    loss = criterion(outputs, targets)\n",
    "    loss.backward()\n",
    "    optimizer.step()\n",
    "    print ('Epoch [%d/%d], Loss: %.4f' %(epoch+1, num_epochs, loss.data[0]))"
   ]
  },
  {
   "cell_type": "code",
   "execution_count": 12,
   "metadata": {
    "collapsed": false
   },
   "outputs": [],
   "source": [
    "test_x = test_x.as_matrix()\n",
    "test_x = test_x.astype('float32')\n",
    "test_x = Variable(torch.from_numpy(test_x))"
   ]
  },
  {
   "cell_type": "code",
   "execution_count": 13,
   "metadata": {
    "collapsed": false
   },
   "outputs": [],
   "source": [
    "test_y = test_y[\"class\"].apply(changeiris)\n",
    "test_y = test_y.as_matrix()\n",
    "test_y = test_y.astype('float32')\n",
    "test_y = torch.from_numpy(test_y).long()"
   ]
  },
  {
   "cell_type": "code",
   "execution_count": 14,
   "metadata": {
    "collapsed": true
   },
   "outputs": [],
   "source": [
    "outputs = model(test_x)\n",
    "_, predicted = torch.max(outputs.data, 1)"
   ]
  },
  {
   "cell_type": "code",
   "execution_count": 15,
   "metadata": {
    "collapsed": false
   },
   "outputs": [
    {
     "name": "stdout",
     "output_type": "stream",
     "text": [
      "Accuracy of the model on test set: 60 %\n"
     ]
    }
   ],
   "source": [
    "correct = (predicted == test_y).sum()\n",
    "print('Accuracy of the model on test set: %d %%' % (100 * correct / len(test_x)))"
   ]
  }
 ],
 "metadata": {
  "kernelspec": {
   "display_name": "Python 3",
   "language": "python",
   "name": "python3"
  },
  "language_info": {
   "codemirror_mode": {
    "name": "ipython",
    "version": 3
   },
   "file_extension": ".py",
   "mimetype": "text/x-python",
   "name": "python",
   "nbconvert_exporter": "python",
   "pygments_lexer": "ipython3",
   "version": "3.6.0"
  }
 },
 "nbformat": 4,
 "nbformat_minor": 2
}
